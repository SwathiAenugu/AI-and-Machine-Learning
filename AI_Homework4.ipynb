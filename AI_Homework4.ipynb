{
  "nbformat": 4,
  "nbformat_minor": 0,
  "metadata": {
    "colab": {
      "name": "AI_Homework4.ipynb",
      "provenance": [],
      "collapsed_sections": [],
      "mount_file_id": "1DJaoJMo0A93tvtcVac5ALjN-69tTDdqx",
      "authorship_tag": "ABX9TyP+q1Bnq7XDt1kg/xn+NKB2",
      "include_colab_link": true
    },
    "kernelspec": {
      "name": "python3",
      "display_name": "Python 3"
    },
    "language_info": {
      "name": "python"
    }
  },
  "cells": [
    {
      "cell_type": "markdown",
      "metadata": {
        "id": "view-in-github",
        "colab_type": "text"
      },
      "source": [
        "<a href=\"https://colab.research.google.com/github/SwathiAenugu/Fundamentals-of-Artificial-Intelligence/blob/main/AI_Homework4.ipynb\" target=\"_parent\"><img src=\"https://colab.research.google.com/assets/colab-badge.svg\" alt=\"Open In Colab\"/></a>"
      ]
    },
    {
      "cell_type": "markdown",
      "source": [
        "**1.\tRe-calculate the entropy for the feature selection in the example of file “Gini Impurity Cal in Decision Tree” rather than Gini impurity method. And then, compare the results from two different criteria \n",
        "Hint: taking the reference at the following link for your calculation\n",
        "https://towardsdatascience.com/entropy-how-decision-trees-make-decisions-2946b9c18c8**\n",
        "\n"
      ],
      "metadata": {
        "id": "h8Abii_9ju95"
      }
    },
    {
      "cell_type": "code",
      "source": [
        "import pandas as pd\n",
        "\n",
        "data = pd.DataFrame({\"Color\":[\"Green\",\"Yellow\",\"Red\",\"Red\",\"Yellow\"],\n",
        "                     \"Diameter\":[3,3,1,1,3],\n",
        "                     \"Label\":[\"Apple\",\"Apple\",\"Grape\",\"Grape\",\"Lemon\"],}, \n",
        "                    columns=[\"Color\",\"Diameter\",\"Label\"])\n",
        "\n",
        "features = data[[\"Color\",\"Diameter\"]]\n",
        "target = data[\"Label\"]\n",
        "\n",
        "print(data)\n",
        "\n",
        "import numpy as np\n",
        "import matplotlib.pyplot as plt\n",
        "\n",
        "fig=plt.figure()\n",
        "ax=fig.add_subplot(111)\n",
        "\n",
        "ax.plot(np.linspace(0.01,1),np.log2(np.linspace(0.01,1)))\n",
        "ax.set_xlabel(\"P(x)\")\n",
        "ax.set_ylabel(\"log2(P(x))\")\n",
        "\n",
        "plt.show()\n"
      ],
      "metadata": {
        "colab": {
          "base_uri": "https://localhost:8080/",
          "height": 383
        },
        "id": "Y6ApnRbEj4-S",
        "outputId": "1d92a921-a05c-49d7-c08b-caf8b94f8acb"
      },
      "execution_count": 2,
      "outputs": [
        {
          "output_type": "stream",
          "name": "stdout",
          "text": [
            "    Color  Diameter  Label\n",
            "0   Green         3  Apple\n",
            "1  Yellow         3  Apple\n",
            "2     Red         1  Grape\n",
            "3     Red         1  Grape\n",
            "4  Yellow         3  Lemon\n"
          ]
        },
        {
          "output_type": "display_data",
          "data": {
            "text/plain": [
              "<Figure size 432x288 with 1 Axes>"
            ],
            "image/png": "[encoded data removed]"
          },
          "metadata": {
            "needs_background": "light"
          }
        }
      ]
    },
    {
      "cell_type": "markdown",
      "source": [
        "**2.\tGiven a dataset as follows, please buildup a decision tree with max information gain comparing the different condition checking features by hand calculation Gini impurity and information gain. And predict \"Profit\" in the new data. After that, write Python program to verify your design through calling existing functions from the library**\n",
        "\n",
        "\n",
        "![image.png](data:image/png;base64,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)"
      ],
      "metadata": {
        "id": "p6bIax7YlkSQ"
      }
    },
    {
      "cell_type": "code",
      "execution_count": null,
      "metadata": {
        "colab": {
          "base_uri": "https://localhost:8080/"
        },
        "id": "Yde9PPyGdBe5",
        "outputId": "c24c1d3f-7ae5-46fa-ffec-6d24c9f37ec6"
      },
      "outputs": [
        {
          "output_type": "stream",
          "name": "stdout",
          "text": [
            "/content\n",
            "/content/drive/My Drive/Colab Notebooks\n",
            "Data Frame:\n",
            "    Age Competition      Type Profit\n",
            "0  Old         Yes  Software   Down\n",
            "1  Old          No  Software   Down\n",
            "2  Old          No  Hardware   Down\n",
            "3  Mid         Yes  Software   Down\n",
            "4  Mid         Yes  Hardware   Down\n",
            "5  Mid          No  Hardware     Up\n",
            "6  Mid          No  Software     Up\n",
            "7  New         Yes  Software     Up\n",
            "8  New          No  Hardware     Up\n",
            "9  New          No  Software     Up\n",
            "\n",
            "Updated data frame:\n",
            "    Age  Competition  Type  Profit\n",
            "0    0            1     1       0\n",
            "1    0            0     1       0\n",
            "2    0            0     0       0\n",
            "3    1            1     1       0\n",
            "4    1            1     0       0\n",
            "5    1            0     0       1\n",
            "6    1            0     1       1\n",
            "7    2            1     1       1\n",
            "8    2            0     0       1\n",
            "9    2            0     1       1\n",
            "predicted value: [1]\n"
          ]
        },
        {
          "output_type": "stream",
          "name": "stderr",
          "text": [
            "/usr/local/lib/python3.7/dist-packages/sklearn/base.py:451: UserWarning: X does not have valid feature names, but DecisionTreeClassifier was fitted with feature names\n",
            "  \"X does not have valid feature names, but\"\n"
          ]
        }
      ],
      "source": [
        "%cd /content\n",
        "%cd drive/My Drive/Colab Notebooks\n",
        "import pandas as pd\n",
        "df = pd.read_csv(\"decision_tree.csv\") \n",
        "print(\"Data Frame:\\n\",df)\n",
        "\n",
        "d = {'Old': 0, 'Mid': 1, 'New': 2}\n",
        "df['Age'] = df['Age'].map(d)\n",
        "d = {'Yes': 1, 'No': 0}\n",
        "df['Competition'] = df['Competition'].map(d)\n",
        "d = {'Software': 1, 'Hardware': 0}\n",
        "df['Type'] = df['Type'].map(d)\n",
        "d = {'Up': 1, 'Down': 0}\n",
        "df['Profit'] = df['Profit'].map(d)\n",
        "print(\"\\nUpdated data frame:\\n\",df)\n",
        "\n",
        "x_train=df.iloc[:,0:3]\n",
        "y_train=df.iloc[:,3]\n",
        "\n",
        "from sklearn.tree import DecisionTreeClassifier\n",
        "import numpy as np\n",
        "from sklearn import tree\n",
        "\n",
        "clf_tree=DecisionTreeClassifier(random_state=0,max_depth=3)\n",
        "clf_fit=clf_tree.fit(x_train,y_train)\n",
        "\n",
        "x_test=np.array([1,0,0])\n",
        "x_test=x_test.reshape(1,-1)\n",
        "predicted=clf_fit.predict(x_test)\n",
        "\n",
        "print(\"predicted value:\",predicted)"
      ]
    }
  ]
}